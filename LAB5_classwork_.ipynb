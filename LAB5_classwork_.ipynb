{
  "nbformat": 4,
  "nbformat_minor": 0,
  "metadata": {
    "colab": {
      "provenance": [],
      "authorship_tag": "ABX9TyMQc1870DPPv5ETgSTIarYT",
      "include_colab_link": true
    },
    "kernelspec": {
      "name": "python3",
      "display_name": "Python 3"
    },
    "language_info": {
      "name": "python"
    }
  },
  "cells": [
    {
      "cell_type": "markdown",
      "metadata": {
        "id": "view-in-github",
        "colab_type": "text"
      },
      "source": [
        "<a href=\"https://colab.research.google.com/github/anshuraj460016/AI-Lab/blob/main/LAB5_classwork_.ipynb\" target=\"_parent\"><img src=\"https://colab.research.google.com/assets/colab-badge.svg\" alt=\"Open In Colab\"/></a>"
      ]
    },
    {
      "cell_type": "code",
      "source": [
        "my_list = [1, 2, 3, 4]\n",
        "\n",
        "# Method 1: Using clear()\n",
        "my_list.clear()\n",
        "print(my_list)  # Output: []\n",
        "\n",
        "# Method 2: Reassigning an empty list\n",
        "my_list = [1, 2, 3, 4]\n",
        "my_list = []\n",
        "print(my_list)  # Output: []\n",
        "\n",
        "# Method 3: Using del\n",
        "my_list = [1, 2, 3, 4]\n",
        "del my_list[:]\n",
        "print(my_list)  # Output: []"
      ],
      "metadata": {
        "id": "CX84URphUfs7",
        "colab": {
          "base_uri": "https://localhost:8080/"
        },
        "outputId": "82818920-b447-4dcc-f222-2f78271f0691"
      },
      "execution_count": 11,
      "outputs": [
        {
          "output_type": "stream",
          "name": "stdout",
          "text": [
            "[]\n",
            "[]\n",
            "[]\n"
          ]
        }
      ]
    },
    {
      "cell_type": "code",
      "source": [
        "my_list = [10, 20, 30, 40]\n",
        "\n",
        "# Method 1: Using 'in' keyword\n",
        "if 20 in my_list:\n",
        "    print(\"Element exists\")\n",
        "\n",
        "# Method 2: Using a loop\n",
        "element = 30\n",
        "exists = False\n",
        "for item in my_list:\n",
        "    if item == element:\n",
        "        exists = True\n",
        "        break\n",
        "print(exists)  # Output: True"
      ],
      "metadata": {
        "id": "i2Ea7zOMVBBb",
        "colab": {
          "base_uri": "https://localhost:8080/"
        },
        "outputId": "828143bd-ad7f-4ddd-a0be-c9b4c42f5036"
      },
      "execution_count": 10,
      "outputs": [
        {
          "output_type": "stream",
          "name": "stdout",
          "text": [
            "Element exists\n",
            "True\n"
          ]
        }
      ]
    },
    {
      "cell_type": "code",
      "source": [
        "my_list = [1, 2, 3, 4,5]\n",
        "\n",
        "# Method 1: Using sum()\n",
        "total = sum(my_list)\n",
        "print(total)\n",
        "\n",
        "# Method 2: Using a loop\n",
        "total = 0\n",
        "for num in my_list:\n",
        "    total += num\n",
        "print(total)"
      ],
      "metadata": {
        "id": "LQBmRMdIVR4j",
        "colab": {
          "base_uri": "https://localhost:8080/"
        },
        "outputId": "59f33ed2-f568-4886-8bbc-a9025937f128"
      },
      "execution_count": 9,
      "outputs": [
        {
          "output_type": "stream",
          "name": "stdout",
          "text": [
            "15\n",
            "15\n"
          ]
        }
      ]
    },
    {
      "cell_type": "code",
      "source": [
        "my_list = [10, 20, 5, 30]\n",
        "\n",
        "# Method 1: Using max()\n",
        "largest = max(my_list)\n",
        "print(largest)  # Output: 30\n",
        "\n",
        "# Method 2: Using a loop\n",
        "largest = my_list[0]\n",
        "for num in my_list:\n",
        "    if num > largest:\n",
        "        largest = num\n",
        "print(largest)  # Output: 30"
      ],
      "metadata": {
        "id": "BIWEkoiiWCE7",
        "colab": {
          "base_uri": "https://localhost:8080/"
        },
        "outputId": "5964c698-c120-4465-b6ab-0d795f6d9336"
      },
      "execution_count": 8,
      "outputs": [
        {
          "output_type": "stream",
          "name": "stdout",
          "text": [
            "30\n",
            "30\n"
          ]
        }
      ]
    },
    {
      "cell_type": "code",
      "source": [
        "my_list = [10, 20, 5, 30]\n",
        "\n",
        "# Method 1: Using sorting\n",
        "sorted_list = sorted(my_list, reverse=True)\n",
        "second_largest = sorted_list[1]\n",
        "print(second_largest)  # Output: 20\n",
        "\n",
        "# Method 2: Using a loop\n",
        "largest = second_largest = float('-inf')\n",
        "for num in my_list:\n",
        "    if num > largest:\n",
        "        second_largest = largest\n",
        "        largest = num\n",
        "    elif num > second_largest:\n",
        "        second_largest = num\n",
        "print(second_largest)  # Output: 20"
      ],
      "metadata": {
        "id": "Cy-249SaWRkr",
        "colab": {
          "base_uri": "https://localhost:8080/"
        },
        "outputId": "37d26d53-216d-4423-ad8d-4aca6a01ca23"
      },
      "execution_count": 6,
      "outputs": [
        {
          "output_type": "stream",
          "name": "stdout",
          "text": [
            "20\n",
            "20\n"
          ]
        }
      ]
    },
    {
      "cell_type": "code",
      "source": [
        "my_list = [10, 20, 5, 30]\n",
        "\n",
        "# Method 1: Using min()\n",
        "smallest = min(my_list)\n",
        "print(smallest)  # Output: 5\n",
        "\n",
        "# Method 2: Using a loop\n",
        "smallest = my_list[0]\n",
        "for num in my_list:\n",
        "    if num < smallest:\n",
        "        smallest = num\n",
        "print(smallest)  # Output: 5"
      ],
      "metadata": {
        "id": "Ewk0SyeGWl_0",
        "colab": {
          "base_uri": "https://localhost:8080/"
        },
        "outputId": "ffb9b248-9628-461c-890c-509559a47a03"
      },
      "execution_count": 5,
      "outputs": [
        {
          "output_type": "stream",
          "name": "stdout",
          "text": [
            "5\n",
            "5\n"
          ]
        }
      ]
    },
    {
      "cell_type": "code",
      "source": [
        "my_list = [1, 2, 3, 4, 5]\n",
        "\n",
        "# Method 1: Using len()\n",
        "length = len(my_list)\n",
        "print(length)  # Output: 5\n",
        "\n",
        "# Method 2: Using a loop\n",
        "count = 0\n",
        "for _ in my_list:\n",
        "    count += 1\n",
        "print(count)  # Output: 5"
      ],
      "metadata": {
        "id": "GhP-YBo0W1iT",
        "colab": {
          "base_uri": "https://localhost:8080/"
        },
        "outputId": "e4affd42-2f16-4570-a2e2-7ee713533d77"
      },
      "execution_count": 4,
      "outputs": [
        {
          "output_type": "stream",
          "name": "stdout",
          "text": [
            "5\n",
            "5\n"
          ]
        }
      ]
    },
    {
      "cell_type": "code",
      "source": [
        "my_list = [1, 2, 3, 4]\n",
        "\n",
        "# Method 1: Using a loop\n",
        "result = 1\n",
        "for num in my_list:\n",
        "    result *= num\n",
        "print(result)  # Output: 24\n",
        "\n",
        "# Method 2: Using math.prod() (Python 3.8+)\n",
        "import math\n",
        "result = math.prod(my_list)\n",
        "print(result)  # Output: 24"
      ],
      "metadata": {
        "id": "U3FfejatW1pV",
        "colab": {
          "base_uri": "https://localhost:8080/"
        },
        "outputId": "ffd6f1ce-cccd-4fc0-bace-5ed81818498b"
      },
      "execution_count": 3,
      "outputs": [
        {
          "output_type": "stream",
          "name": "stdout",
          "text": [
            "24\n",
            "24\n"
          ]
        }
      ]
    },
    {
      "cell_type": "code",
      "source": [
        "my_list = [1, 2, 3, 4]\n",
        "\n",
        "# Method 1: Using reverse()\n",
        "my_list.reverse()\n",
        "print(my_list)  # Output: [4, 3, 2, 1]\n",
        "\n",
        "# Method 2: Using slicing\n",
        "reversed_list = my_list[::-1]\n",
        "print(reversed_list)  # Output: [4, 3, 2, 1]"
      ],
      "metadata": {
        "id": "SSWT8-moXTkH",
        "colab": {
          "base_uri": "https://localhost:8080/"
        },
        "outputId": "d21d481d-1262-4441-c09c-0b98d9ebee47"
      },
      "execution_count": 2,
      "outputs": [
        {
          "output_type": "stream",
          "name": "stdout",
          "text": [
            "[4, 3, 2, 1]\n",
            "[1, 2, 3, 4]\n"
          ]
        }
      ]
    },
    {
      "cell_type": "code",
      "source": [
        "def swap_elements(lst, index1, index2):\n",
        "\n",
        "    if 0 <= index1 < len(lst) and 0 <= index2 < len(lst):\n",
        "        lst[index1], lst[index2] = lst[index2], lst[index1]\n",
        "    else:\n",
        "        print(\"Index out of range\")\n",
        "    return lst\n",
        "\n",
        "my_list = [10, 20, 30, 40]\n",
        "print(\"Original List:\", my_list)\n",
        "\n",
        "swap_elements(my_list, 1, 3)\n",
        "print(\"List after swapping:\", my_list)"
      ],
      "metadata": {
        "id": "vAuw23pIXmjD",
        "colab": {
          "base_uri": "https://localhost:8080/"
        },
        "outputId": "47bc4729-6308-4a60-cb24-5c5a9baf6753"
      },
      "execution_count": 1,
      "outputs": [
        {
          "output_type": "stream",
          "name": "stdout",
          "text": [
            "Original List: [10, 20, 30, 40]\n",
            "List after swapping: [10, 40, 30, 20]\n"
          ]
        }
      ]
    }
  ]
}