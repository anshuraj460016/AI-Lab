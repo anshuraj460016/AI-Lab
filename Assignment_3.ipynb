{
  "nbformat": 4,
  "nbformat_minor": 0,
  "metadata": {
    "colab": {
      "provenance": [],
      "authorship_tag": "ABX9TyMXwjEvpN+KqChaaUuQEkC3",
      "include_colab_link": true
    },
    "kernelspec": {
      "name": "python3",
      "display_name": "Python 3"
    },
    "language_info": {
      "name": "python"
    }
  },
  "cells": [
    {
      "cell_type": "markdown",
      "metadata": {
        "id": "view-in-github",
        "colab_type": "text"
      },
      "source": [
        "<a href=\"https://colab.research.google.com/github/anshuraj460016/AI-Lab/blob/main/Assignment_3.ipynb\" target=\"_parent\"><img src=\"https://colab.research.google.com/assets/colab-badge.svg\" alt=\"Open In Colab\"/></a>"
      ]
    },
    {
      "cell_type": "code",
      "execution_count": 3,
      "metadata": {
        "id": "Jx9f8mGCRKLN"
      },
      "outputs": [],
      "source": []
    },
    {
      "cell_type": "code",
      "source": [
        "import heapq\n",
        "\n",
        "def manhattan_distance(x1, y1, x2, y2):\n",
        "    return abs(x1 - x2) + abs(y1 - y2)\n",
        "\n",
        "def best_first_search(grid, start, treasure):\n",
        "    rows, cols = len(grid), len(grid[0])\n",
        "    visited = set()\n",
        "    priority_queue = []\n",
        "    path = {}\n",
        "\n",
        "    heapq.heappush(priority_queue, (manhattan_distance(*start, *treasure), start))\n",
        "    visited.add(start)\n",
        "    path[start] = None\n",
        "\n",
        "    while priority_queue:\n",
        "        _, current = heapq.heappop(priority_queue)\n",
        "        if current == treasure:\n",
        "            result_path = []\n",
        "            while current is not None:\n",
        "                result_path.append(current)\n",
        "                current = path[current]\n",
        "            return result_path[::-1]\n",
        "\n",
        "        x, y = current\n",
        "        for dx, dy in [(-1, 0), (1, 0), (0, -1), (0, 1)]:\n",
        "            nx, ny = x + dx, y + dy\n",
        "            if 0 <= nx < rows and 0 <= ny < cols and (nx, ny) not in visited:\n",
        "                visited.add((nx, ny))\n",
        "                path[(nx, ny)] = current\n",
        "                heapq.heappush(priority_queue, (manhattan_distance(nx, ny, *treasure), (nx, ny)))\n",
        "\n",
        "    return []\n",
        "\n",
        "if __name__ == \"__main__\":\n",
        "    grid = [\n",
        "        [1, 4, 3, 5],\n",
        "        [1, 1, 2, 7],\n",
        "        [3, 2, 2, 0],\n",
        "        [5, 3, 8, 1]\n",
        "    ]\n",
        "    start = (0, 0)\n",
        "    # Update treasure location\n",
        "    treasure = (3, 3)\n",
        "\n",
        "    path = best_first_search(grid, start, treasure)\n",
        "    print(\"Path to the treasure:\", path)"
      ],
      "metadata": {
        "colab": {
          "base_uri": "https://localhost:8080/"
        },
        "id": "AS82WVBDVUyv",
        "outputId": "6a761901-cecb-46be-e104-e869a265dd80"
      },
      "execution_count": 7,
      "outputs": [
        {
          "output_type": "stream",
          "name": "stdout",
          "text": [
            "Path to the treasure: [(0, 0), (0, 1), (0, 2), (0, 3), (1, 3), (2, 3), (3, 3)]\n"
          ]
        }
      ]
    }
  ]
}