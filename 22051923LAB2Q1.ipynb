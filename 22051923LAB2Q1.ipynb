{
  "nbformat": 4,
  "nbformat_minor": 0,
  "metadata": {
    "colab": {
      "provenance": [],
      "authorship_tag": "ABX9TyMEJPh38sQfht2/6cpBIz/w",
      "include_colab_link": true
    },
    "kernelspec": {
      "name": "python3",
      "display_name": "Python 3"
    },
    "language_info": {
      "name": "python"
    }
  },
  "cells": [
    {
      "cell_type": "markdown",
      "metadata": {
        "id": "view-in-github",
        "colab_type": "text"
      },
      "source": [
        "<a href=\"https://colab.research.google.com/github/anshuraj460016/AI-Lab/blob/main/22051923LAB2Q1.ipynb\" target=\"_parent\"><img src=\"https://colab.research.google.com/assets/colab-badge.svg\" alt=\"Open In Colab\"/></a>"
      ]
    },
    {
      "cell_type": "code",
      "source": [
        "\n",
        "def simple_vacuum_cleaner(location, status):\n",
        "\n",
        "\n",
        "  if status == \"Dirty\":\n",
        "\n",
        "     action = \"Suck\"\n",
        "\n",
        "     action = \"Right\"\n",
        "\n",
        "  print(f\"Location: {location}, Status: {status}, Action decided: {action}\")\n",
        "  return action\n",
        "\n",
        "\n",
        "location = input(\"Enter location (A/B): \")\n",
        "status = input(\"Enter status (Clean/Dirty): \")\n",
        "\n",
        "action = simple_vacuum_cleaner(location, status)\n",
        "\n"
      ],
      "metadata": {
        "colab": {
          "base_uri": "https://localhost:8080/"
        },
        "id": "hfTExxk09tRf",
        "outputId": "d7c810cf-9334-4879-ae1b-9164f40d9579"
      },
      "execution_count": 12,
      "outputs": [
        {
          "output_type": "stream",
          "name": "stdout",
          "text": [
            "Enter location (A/B): B\n",
            "Enter status (Clean/Dirty): Dirty\n",
            "Location: B, Status: Dirty, Action decided: Right\n"
          ]
        }
      ]
    },
    {
      "cell_type": "code",
      "source": [
        "from google.colab import drive\n",
        "drive.mount('/content/drive')"
      ],
      "metadata": {
        "id": "b5GyCKAf_2-S"
      },
      "execution_count": null,
      "outputs": []
    }
  ]
}