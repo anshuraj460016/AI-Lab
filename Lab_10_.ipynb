{
  "nbformat": 4,
  "nbformat_minor": 0,
  "metadata": {
    "colab": {
      "provenance": [],
      "authorship_tag": "ABX9TyMT0Ib/w6PqCwCtYB3GDOPK",
      "include_colab_link": true
    },
    "kernelspec": {
      "name": "python3",
      "display_name": "Python 3"
    },
    "language_info": {
      "name": "python"
    }
  },
  "cells": [
    {
      "cell_type": "markdown",
      "metadata": {
        "id": "view-in-github",
        "colab_type": "text"
      },
      "source": [
        "<a href=\"https://colab.research.google.com/github/anshuraj460016/AI-Lab/blob/main/Lab_10_.ipynb\" target=\"_parent\"><img src=\"https://colab.research.google.com/assets/colab-badge.svg\" alt=\"Open In Colab\"/></a>"
      ]
    },
    {
      "cell_type": "code",
      "execution_count": null,
      "metadata": {
        "id": "qWr5K3kO3L_S",
        "outputId": "fe2eabe8-e863-46e9-cf23-9d157766e95d",
        "colab": {
          "base_uri": "https://localhost:8080/"
        }
      },
      "outputs": [
        {
          "output_type": "stream",
          "name": "stdout",
          "text": [
            "Solution Board (Column Positions): [6, 0, 0, 5, 1, 5, 7, 2]\n",
            "Fitness Score: -2\n"
          ]
        }
      ],
      "source": [
        "import random\n",
        "\n",
        "# Anshu 1923\n",
        "def generate_board(n):\n",
        "    return [random.randint(0, n - 1) for _ in range(n)]\n",
        "\n",
        "\n",
        "def fitness(board):\n",
        "    n = len(board)\n",
        "    conflicts = 0\n",
        "    for i in range(n):\n",
        "        for j in range(i + 1, n):\n",
        "            if board[i] == board[j] or abs(board[i] - board[j]) == abs(i - j):\n",
        "                conflicts += 1\n",
        "    return -conflicts\n",
        "\n",
        "\n",
        "def get_neighbors(board):\n",
        "    n = len(board)\n",
        "    neighbors = []\n",
        "    for col in range(n):\n",
        "        for row in range(n):\n",
        "            if row != board[col]:\n",
        "                new_board = board[:]\n",
        "                new_board[col] = row\n",
        "                neighbors.append(new_board)\n",
        "    return neighbors\n",
        "\n",
        "# Anshu 1923\n",
        "def hill_climb(n):\n",
        "    current = generate_board(n)\n",
        "    while True:\n",
        "        neighbors = get_neighbors(current)\n",
        "        best_neighbor = max(neighbors, key=fitness)\n",
        "        if fitness(best_neighbor) <= fitness(current):\n",
        "            return current\n",
        "        current = best_neighbor\n",
        "\n",
        "# Anshu 1923\n",
        "n = 8\n",
        "solution = hill_climb(n)\n",
        "print(\"Solution Board (Column Positions):\", solution)\n",
        "print(\"Fitness Score:\", fitness(solution))\n"
      ]
    }
  ]
}