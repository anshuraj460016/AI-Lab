{
  "cells": [
    {
      "cell_type": "markdown",
      "metadata": {
        "id": "view-in-github",
        "colab_type": "text"
      },
      "source": [
        "<a href=\"https://colab.research.google.com/github/anshuraj460016/AI-Lab/blob/main/Welcome_To_Colab.ipynb\" target=\"_parent\"><img src=\"https://colab.research.google.com/assets/colab-badge.svg\" alt=\"Open In Colab\"/></a>"
      ]
    },
    {
      "cell_type": "code",
      "source": [
        "list = [10, 20, 4, 45, 99]\n",
        "list.sort()\n",
        "print(\"Sorted list:\", list)"
      ],
      "metadata": {
        "id": "wpOkYMxHEcCl",
        "outputId": "c41c8af5-a21a-4e65-a105-177cac032807",
        "colab": {
          "base_uri": "https://localhost:8080/"
        }
      },
      "execution_count": 21,
      "outputs": [
        {
          "output_type": "stream",
          "name": "stdout",
          "text": [
            "Sorted list: [4, 10, 20, 45, 99]\n"
          ]
        }
      ]
    },
    {
      "cell_type": "code",
      "source": [
        "list = [10, 20, 30, 40, 50]\n",
        "sum = 0\n",
        "for num in list1:\n",
        "  sum += num\n",
        "print(\"Sum of all elements in the list:\", sum)"
      ],
      "metadata": {
        "id": "Cl01EuojERsp",
        "outputId": "4350c6ec-be31-4adf-a3c6-0868fe0e0d7a",
        "colab": {
          "base_uri": "https://localhost:8080/"
        }
      },
      "execution_count": 19,
      "outputs": [
        {
          "output_type": "stream",
          "name": "stdout",
          "text": [
            "Sum of all elements in the list: 150\n"
          ]
        }
      ]
    },
    {
      "cell_type": "code",
      "source": [
        "string = input(\"Enter a string: \")\n",
        "if string == string[::-1]:\n",
        "  print(\"The string is a palindrome\")\n",
        "else:\n",
        "  print(\"The string is not a palindrome\")"
      ],
      "metadata": {
        "id": "WARgbVABE3Cc",
        "outputId": "37420672-a38f-4cc6-8370-548f3a93bb9b",
        "colab": {
          "base_uri": "https://localhost:8080/"
        }
      },
      "execution_count": 22,
      "outputs": [
        {
          "output_type": "stream",
          "name": "stdout",
          "text": [
            "Enter a string: 6\n",
            "The string is a palindrome\n"
          ]
        }
      ]
    },
    {
      "cell_type": "code",
      "source": [
        "num1 = int(input(\"Enter the first number: \"))\n",
        "num2 = int(input(\"Enter the second number: \"))\n",
        "sum = num1 + num2\n",
        "print(\"The sum of the numbers is:\", sum)"
      ],
      "metadata": {
        "id": "uQm633h3FMSA",
        "outputId": "828a1503-6835-4866-f4f7-5e631c92bda6",
        "colab": {
          "base_uri": "https://localhost:8080/"
        }
      },
      "execution_count": 23,
      "outputs": [
        {
          "output_type": "stream",
          "name": "stdout",
          "text": [
            "Enter the first number: 4\n",
            "Enter the second number: 6\n",
            "The sum of the numbers is: 10\n"
          ]
        }
      ]
    },
    {
      "cell_type": "code",
      "source": [
        "print(\"Hello, World!\")"
      ],
      "metadata": {
        "id": "C2Ke7UMAFUGY",
        "outputId": "37db71f7-b707-4754-e978-7b0eeebbdd7c",
        "colab": {
          "base_uri": "https://localhost:8080/"
        }
      },
      "execution_count": 24,
      "outputs": [
        {
          "output_type": "stream",
          "name": "stdout",
          "text": [
            "Hello, World!\n"
          ]
        }
      ]
    },
    {
      "cell_type": "code",
      "source": [
        "num = int(input(\"Enter a non-negative integer: \"))\n",
        "factorial = 1\n",
        "if num < 0:\n",
        "  print(\"Factorial does not exist for negative numbers\")\n",
        "elif num == 0:\n",
        "  print(\"The factorial of 0 is 1\")\n",
        "else:\n",
        "  for i in range(1,num + 1):\n",
        "    factorial = factorial*i\n",
        "  print(\"The factorial of\",num,\"is\",factorial)"
      ],
      "metadata": {
        "id": "nMyw_pyDFZkJ",
        "outputId": "39281551-8a73-4334-aeed-7a9f078fe14f",
        "colab": {
          "base_uri": "https://localhost:8080/"
        }
      },
      "execution_count": 25,
      "outputs": [
        {
          "output_type": "stream",
          "name": "stdout",
          "text": [
            "Enter a non-negative integer: 6\n",
            "The factorial of 6 is 720\n"
          ]
        }
      ]
    },
    {
      "cell_type": "code",
      "source": [
        "\n",
        "\n",
        "def is_prime(n):\n",
        "  \"\"\"Checks if a number is prime.\"\"\"\n",
        "  if n <= 1:\n",
        "    return False\n",
        "  for i in range(2, int(n**0.5) + 1):\n",
        "    if n % i == 0:\n",
        "      return False\n",
        "  return True\n",
        "\n",
        "def check_number(num):\n",
        "  \"\"\"Checks if a number is odd, even, or prime and prints the result.\"\"\"\n",
        "\n",
        "  if num % 2 == 0:\n",
        "    print(f\"{num} is even.\")\n",
        "  else:\n",
        "    print(f\"{num} is odd.\")\n",
        "\n",
        "  if is_prime(num):\n",
        "    print(f\"{num} is prime.\")\n",
        "\n",
        "user_input = int(input(\"Enter an integer: \"))\n",
        "check_number(user_input)"
      ],
      "metadata": {
        "id": "MtjxwzztGaFG",
        "outputId": "2d0d9746-8d11-459f-e327-84e335620be2",
        "colab": {
          "base_uri": "https://localhost:8080/"
        }
      },
      "execution_count": 26,
      "outputs": [
        {
          "output_type": "stream",
          "name": "stdout",
          "text": [
            "Enter an integer: 6\n",
            "6 is even.\n"
          ]
        }
      ]
    },
    {
      "cell_type": "code",
      "source": [
        "rows = 5\n",
        "for i in range(1, rows+1):\n",
        "    for j in range(1, i+1):\n",
        "        print(\"*\", end=\"\")\n",
        "    print()"
      ],
      "metadata": {
        "id": "4ayOpfJFHBgX",
        "outputId": "053dee2f-48b6-4691-c180-12e8da829e2d",
        "colab": {
          "base_uri": "https://localhost:8080/"
        }
      },
      "execution_count": 27,
      "outputs": [
        {
          "output_type": "stream",
          "name": "stdout",
          "text": [
            "*\n",
            "**\n",
            "***\n",
            "****\n",
            "*****\n"
          ]
        }
      ]
    },
    {
      "cell_type": "code",
      "source": [
        "sum = 0\n",
        "for num in range(2, 101, 2):\n",
        "    sum += num\n",
        "print(\"Sum of even numbers:\", sum)"
      ],
      "metadata": {
        "id": "II09seTpHOMU",
        "outputId": "9976936d-5460-4afe-b093-e7bda5d7dc0c",
        "colab": {
          "base_uri": "https://localhost:8080/"
        }
      },
      "execution_count": 28,
      "outputs": [
        {
          "output_type": "stream",
          "name": "stdout",
          "text": [
            "Sum of even numbers: 2550\n"
          ]
        }
      ]
    },
    {
      "cell_type": "code",
      "source": [
        "def sum_of_digits(number):\n",
        "\n",
        "  sum = 0\n",
        "  while number > 0:\n",
        "    digit = number % 10\n",
        "    sum += digit\n",
        "    number //= 10\n",
        "  return sum\n",
        "\n",
        "num = int(input(\"Enter a number: \"))\n",
        "result = sum_of_digits(num)\n",
        "print(\"The sum of digits of\", num, \"is\", result)"
      ],
      "metadata": {
        "id": "b_SxKoY-HZRc",
        "outputId": "6dcb745f-d428-4d9a-9b29-0783d3ca15ff",
        "colab": {
          "base_uri": "https://localhost:8080/"
        }
      },
      "execution_count": 29,
      "outputs": [
        {
          "output_type": "stream",
          "name": "stdout",
          "text": [
            "Enter a number: 678\n",
            "The sum of digits of 678 is 21\n"
          ]
        }
      ]
    }
  ],
  "metadata": {
    "colab": {
      "name": "Welcome To Colab",
      "provenance": [],
      "include_colab_link": true
    },
    "kernelspec": {
      "display_name": "Python 3",
      "name": "python3"
    }
  },
  "nbformat": 4,
  "nbformat_minor": 0
}