{
  "nbformat": 4,
  "nbformat_minor": 0,
  "metadata": {
    "colab": {
      "provenance": [],
      "authorship_tag": "ABX9TyMMaqHUMskGUKsoLXOwp3ub",
      "include_colab_link": true
    },
    "kernelspec": {
      "name": "python3",
      "display_name": "Python 3"
    },
    "language_info": {
      "name": "python"
    }
  },
  "cells": [
    {
      "cell_type": "markdown",
      "metadata": {
        "id": "view-in-github",
        "colab_type": "text"
      },
      "source": [
        "<a href=\"https://colab.research.google.com/github/anshuraj460016/AI-Lab/blob/main/22051923LAB2Q2.ipynb\" target=\"_parent\"><img src=\"https://colab.research.google.com/assets/colab-badge.svg\" alt=\"Open In Colab\"/></a>"
      ]
    },
    {
      "cell_type": "code",
      "execution_count": 1,
      "metadata": {
        "colab": {
          "base_uri": "https://localhost:8080/"
        },
        "id": "xwm8bK19DxDS",
        "outputId": "88bcb5bf-c769-4d61-b996-a01868269eca"
      },
      "outputs": [
        {
          "output_type": "stream",
          "name": "stdout",
          "text": [
            "Enter status for R1 (0 for Clean, 1 for Dirty): 0\n",
            "Enter status for R2 (0 for Clean, 1 for Dirty): 0\n",
            "Enter starting room (R1/R2): R2\n",
            "R2 is already Clean.\n",
            "Moving Left to R1.\n",
            "Both rooms are clean. Task complete!\n"
          ]
        }
      ],
      "source": [
        "\n",
        "\n",
        "def vacuum_cleaner_simulation():\n",
        "\n",
        "    room_status = {\n",
        "        \"R1\": int(input(\"Enter status for R1 (0 for Clean, 1 for Dirty): \").strip()),\n",
        "        \"R2\": int(input(\"Enter status for R2 (0 for Clean, 1 for Dirty): \").strip())\n",
        "    }\n",
        "\n",
        "\n",
        "    current_room = input(\"Enter starting room (R1/R2): \").strip().capitalize()\n",
        "\n",
        "    while True:\n",
        "\n",
        "        if room_status[current_room] == 1:\n",
        "            print(f\"{current_room} is Dirty. Cleaning now...\")\n",
        "\n",
        "            room_status[current_room] = 0\n",
        "            print(f\"{current_room} is now Clean.\")\n",
        "        else:\n",
        "            print(f\"{current_room} is already Clean.\")\n",
        "\n",
        "\n",
        "        if current_room == \"R1\":\n",
        "            print(\"Moving Right to R2.\")\n",
        "            current_room = \"R2\"\n",
        "        elif current_room == \"R2\":\n",
        "            print(\"Moving Left to R1.\")\n",
        "            current_room = \"R1\"\n",
        "\n",
        "\n",
        "        if room_status[\"R1\"] == 0 and room_status[\"R2\"] == 0:\n",
        "            print(\"Both rooms are clean. Task complete!\")\n",
        "            break\n",
        "\n",
        "\n",
        "vacuum_cleaner_simulation()\n"
      ]
    }
  ]
}