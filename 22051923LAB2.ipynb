{
  "nbformat": 4,
  "nbformat_minor": 0,
  "metadata": {
    "colab": {
      "provenance": [],
      "authorship_tag": "ABX9TyM9TmEIxkg8304/cn64OMGb",
      "include_colab_link": true
    },
    "kernelspec": {
      "name": "python3",
      "display_name": "Python 3"
    },
    "language_info": {
      "name": "python"
    }
  },
  "cells": [
    {
      "cell_type": "markdown",
      "metadata": {
        "id": "view-in-github",
        "colab_type": "text"
      },
      "source": [
        "<a href=\"https://colab.research.google.com/github/anshuraj460016/AI-Lab/blob/main/22051923LAB2.ipynb\" target=\"_parent\"><img src=\"https://colab.research.google.com/assets/colab-badge.svg\" alt=\"Open In Colab\"/></a>"
      ]
    },
    {
      "cell_type": "code",
      "source": [
        "\n",
        "def simple_vacuum_cleaner(location, status):\n",
        "\n",
        "\n",
        "  if status == \"Dirty\":\n",
        "\n",
        "     action = \"Suck\"\n",
        "\n",
        "     action = \"Right\"\n",
        "\n",
        "  print(f\"Location: {location}, Status: {status}, Action decided: {action}\")\n",
        "  return action\n",
        "\n",
        "\n",
        "location = input(\"Enter location (A/B): \")\n",
        "status = input(\"Enter status (Clean/Dirty): \")\n",
        "\n",
        "action = simple_vacuum_cleaner(location, status)\n",
        "\n"
      ],
      "metadata": {
        "colab": {
          "base_uri": "https://localhost:8080/"
        },
        "id": "hfTExxk09tRf",
        "outputId": "d7c810cf-9334-4879-ae1b-9164f40d9579"
      },
      "execution_count": null,
      "outputs": [
        {
          "output_type": "stream",
          "name": "stdout",
          "text": [
            "Enter location (A/B): B\n",
            "Enter status (Clean/Dirty): Dirty\n",
            "Location: B, Status: Dirty, Action decided: Right\n"
          ]
        }
      ]
    },
    {
      "cell_type": "code",
      "source": [
        "from google.colab import drive\n",
        "drive.mount('/content/drive')"
      ],
      "metadata": {
        "id": "b5GyCKAf_2-S"
      },
      "execution_count": null,
      "outputs": []
    },
    {
      "cell_type": "code",
      "source": [
        "\n",
        "\n",
        "def vacuum_cleaner_simulation():\n",
        "\n",
        "    room_status = {\n",
        "        \"R1\": int(input(\"Enter status for R1 (0 for Clean, 1 for Dirty): \").strip()),\n",
        "        \"R2\": int(input(\"Enter status for R2 (0 for Clean, 1 for Dirty): \").strip())\n",
        "    }\n",
        "\n",
        "\n",
        "    current_room = input(\"Enter starting room (R1/R2): \").strip().capitalize()\n",
        "\n",
        "    while True:\n",
        "\n",
        "        if room_status[current_room] == 1:\n",
        "            print(f\"{current_room} is Dirty. Cleaning now...\")\n",
        "\n",
        "            room_status[current_room] = 0\n",
        "            print(f\"{current_room} is now Clean.\")\n",
        "        else:\n",
        "            print(f\"{current_room} is already Clean.\")\n",
        "\n",
        "\n",
        "        if current_room == \"R1\":\n",
        "            print(\"Moving Right to R2.\")\n",
        "            current_room = \"R2\"\n",
        "        elif current_room == \"R2\":\n",
        "            print(\"Moving Left to R1.\")\n",
        "            current_room = \"R1\"\n",
        "\n",
        "\n",
        "        if room_status[\"R1\"] == 0 and room_status[\"R2\"] == 0:\n",
        "            print(\"Both rooms are clean. Task complete!\")\n",
        "            break\n",
        "\n",
        "\n",
        "vacuum_cleaner_simulation()\n"
      ],
      "metadata": {
        "colab": {
          "base_uri": "https://localhost:8080/"
        },
        "id": "VzAzWg7rAxKF",
        "outputId": "a37a16bf-3de2-4ad2-a000-a8ddb65bc232"
      },
      "execution_count": null,
      "outputs": [
        {
          "output_type": "stream",
          "name": "stdout",
          "text": [
            "Enter status for R1 (0 for Clean, 1 for Dirty): 0\n",
            "Enter status for R2 (0 for Clean, 1 for Dirty): 1\n",
            "Enter starting room (R1/R2): R1\n",
            "R1 is already Clean.\n",
            "Moving Right to R2.\n",
            "R2 is Dirty. Cleaning now...\n",
            "R2 is now Clean.\n",
            "Moving Left to R1.\n",
            "Both rooms are clean. Task complete!\n"
          ]
        }
      ]
    },
    {
      "cell_type": "code",
      "source": [
        "def create_graph():\n",
        "    graph = {}\n",
        "    num_nodes = int(input(\"Enter the number of nodes in the graph: \").strip())\n",
        "\n",
        "    for _ in range(num_nodes):\n",
        "        node = input(\"Enter node: \").strip()\n",
        "        neighbors = input(f\"Enter neighbors of {node} (comma-separated): \").strip().split(',')\n",
        "        graph[node] = [neighbor.strip() for neighbor in neighbors if neighbor.strip()]\n",
        "\n",
        "    return graph\n",
        "\n",
        "def bfs(graph, start):\n",
        "    visited = set()\n",
        "    queue = [start]\n",
        "    traversal = []\n",
        "\n",
        "    while queue:\n",
        "        node = queue.pop(0)\n",
        "        if node not in visited:\n",
        "            visited.add(node)\n",
        "            traversal.append(node)\n",
        "            queue.extend(neighbor for neighbor in graph.get(node, []) if neighbor not in visited)\n",
        "\n",
        "    return traversal\n",
        "\n",
        "def dfs(graph, start, visited=None):\n",
        "    if visited is None:\n",
        "        visited = set()\n",
        "\n",
        "    visited.add(start)\n",
        "    traversal = [start]\n",
        "\n",
        "    for neighbor in graph.get(start, []):\n",
        "        if neighbor not in visited:\n",
        "            traversal.extend(dfs(graph, neighbor, visited))\n",
        "\n",
        "    return traversal\n",
        "\n",
        "\n",
        "if __name__ == \"__main__2\":\n",
        "    graph = create_graph()\n",
        "    start_node = input(\"Enter the starting node for traversal: \").strip()\n",
        "    bfs_result = bfs(graph, start_node)\n",
        "    dfs_result = dfs(graph, start_node)\n",
        "    print(\"BFS Traversal:\", \" -> \".join(bfs_result))\n",
        "    print(\"DFS Traversal:\", \" -> \".join(dfs_result))"
      ],
      "metadata": {
        "colab": {
          "base_uri": "https://localhost:8080/"
        },
        "id": "9Z3zo4RXFPcF",
        "outputId": "2a8b4290-dcf9-431e-a69e-420564233e5d"
      },
      "execution_count": null,
      "outputs": [
        {
          "output_type": "stream",
          "name": "stdout",
          "text": [
            "Enter the number of nodes in the graph: 5\n",
            "Enter node: 3\n",
            "Enter neighbors of 3 (comma-separated): 4\n",
            "Enter node: 5\n",
            "Enter neighbors of 5 (comma-separated): 6\n",
            "Enter node: \n",
            "Enter neighbors of  (comma-separated): 5\n",
            "Enter node: 1\n",
            "Enter neighbors of 1 (comma-separated): 5\n",
            "Enter node: 7\n",
            "Enter neighbors of 7 (comma-separated): 7\n",
            "Enter the starting node for traversal: 1\n",
            "BFS Traversal: 1 -> 5 -> 6\n",
            "DFS Traversal: 1 -> 5 -> 6\n"
          ]
        }
      ]
    }
  ]
}