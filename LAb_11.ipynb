{
  "nbformat": 4,
  "nbformat_minor": 0,
  "metadata": {
    "colab": {
      "provenance": [],
      "authorship_tag": "ABX9TyOGqcOaZeVbIVuWqHqei+mz",
      "include_colab_link": true
    },
    "kernelspec": {
      "name": "python3",
      "display_name": "Python 3"
    },
    "language_info": {
      "name": "python"
    }
  },
  "cells": [
    {
      "cell_type": "markdown",
      "metadata": {
        "id": "view-in-github",
        "colab_type": "text"
      },
      "source": [
        "<a href=\"https://colab.research.google.com/github/anshuraj460016/AI-Lab/blob/main/LAb_11.ipynb\" target=\"_parent\"><img src=\"https://colab.research.google.com/assets/colab-badge.svg\" alt=\"Open In Colab\"/></a>"
      ]
    },
    {
      "cell_type": "code",
      "execution_count": 1,
      "metadata": {
        "colab": {
          "base_uri": "https://localhost:8080/"
        },
        "id": "sur_27zuCKlN",
        "outputId": "db2bc243-1cd9-4563-d1e8-f762fb4a5587"
      },
      "outputs": [
        {
          "output_type": "stream",
          "name": "stdout",
          "text": [
            "Best Route: [1, 3, 2, 0]\n",
            "Minimum Distance: 80\n"
          ]
        }
      ],
      "source": [
        "import random\n",
        "\n",
        "def calculate_distance(route, distance_matrix):\n",
        "\n",
        "    total_distance = 0\n",
        "    num_cities = len(route)\n",
        "    for i in range(num_cities):\n",
        "        total_distance += distance_matrix[route[i]][route[(i + 1) % num_cities]]\n",
        "    return total_distance\n",
        "# Anshu 1923\n",
        "\n",
        "def get_neighbors(route):\n",
        "\n",
        "    neighbors = []\n",
        "    num_cities = len(route)\n",
        "    for i in range(num_cities):\n",
        "        for j in range(i + 1, num_cities):\n",
        "            neighbor = route[:]\n",
        "            neighbor[i], neighbor[j] = neighbor[j], neighbor[i]\n",
        "            neighbors.append(neighbor)\n",
        "    return neighbors\n",
        "\n",
        "def hill_climbing(distance_matrix):\n",
        "    \"\"\"Apply Hill Climbing algorithm to find a near-optimal TSP route.\"\"\"\n",
        "    num_cities = len(distance_matrix)\n",
        "    current_route = list(range(num_cities))\n",
        "    random.shuffle(current_route)\n",
        "    current_cost = calculate_distance(current_route, distance_matrix)\n",
        "# Anshu 1923\n",
        "    while True:\n",
        "        neighbors = get_neighbors(current_route)\n",
        "        best_neighbor = None\n",
        "        best_cost = current_cost\n",
        "\n",
        "        for neighbor in neighbors:\n",
        "            neighbor_cost = calculate_distance(neighbor, distance_matrix)\n",
        "            if neighbor_cost < best_cost:\n",
        "                best_neighbor = neighbor\n",
        "                best_cost = neighbor_cost\n",
        "# Anshu 1923\n",
        "        if best_neighbor is None:\n",
        "            break\n",
        "\n",
        "        current_route = best_neighbor\n",
        "        current_cost = best_cost\n",
        "\n",
        "    return current_route, current_cost\n",
        "\n",
        "\n",
        "distance_matrix = [\n",
        "    [0, 10, 15, 20],\n",
        "    [10, 0, 35, 25],\n",
        "    [15, 35, 0, 30],\n",
        "    [20, 25, 30, 0]\n",
        "]\n",
        "\n",
        "# Run the Hill Climbing algorithm\n",
        "best_route, best_distance = hill_climbing(distance_matrix)\n",
        "\n",
        "\n",
        "print(\"Best Route:\", best_route)\n",
        "print(\"Minimum Distance:\", best_distance)"
      ]
    }
  ]
}