{
  "nbformat": 4,
  "nbformat_minor": 0,
  "metadata": {
    "colab": {
      "provenance": [],
      "authorship_tag": "ABX9TyMhFIC3rfbgUu8Es1wgsfEg",
      "include_colab_link": true
    },
    "kernelspec": {
      "name": "python3",
      "display_name": "Python 3"
    },
    "language_info": {
      "name": "python"
    }
  },
  "cells": [
    {
      "cell_type": "markdown",
      "metadata": {
        "id": "view-in-github",
        "colab_type": "text"
      },
      "source": [
        "<a href=\"https://colab.research.google.com/github/anshuraj460016/AI-Lab/blob/main/Lab_9.ipynb\" target=\"_parent\"><img src=\"https://colab.research.google.com/assets/colab-badge.svg\" alt=\"Open In Colab\"/></a>"
      ]
    },
    {
      "cell_type": "code",
      "execution_count": 2,
      "metadata": {
        "colab": {
          "base_uri": "https://localhost:8080/"
        },
        "id": "ZG_OboZIngIt",
        "outputId": "1f37b164-7ced-43f4-b68d-ec59b70bde15"
      },
      "outputs": [
        {
          "output_type": "stream",
          "name": "stdout",
          "text": [
            "Total time using A* Search: 10\n",
            "Total time using Greedy Algorithm: 10\n"
          ]
        }
      ],
      "source": [
        "import heapq\n",
        "\n",
        "class Task:\n",
        "    def __init__(self, id, duration):\n",
        "        self.id = id\n",
        "        self.duration = duration\n",
        "        self.dependencies = set()\n",
        "\n",
        "    def add_dependency(self, task):\n",
        "        self.dependencies.add(task)\n",
        "\n",
        "def heuristic(remaining_tasks):\n",
        "    \"\"\"Heuristic function to estimate the remaining time required to complete all tasks.\"\"\"\n",
        "    return sum(task.duration for task in remaining_tasks)\n",
        "\n",
        "def a_star_schedule(tasks):\n",
        "    \"\"\"A* Search algorithm for task scheduling.\"\"\"\n",
        "    open_list = []\n",
        "    completed_tasks = set()\n",
        "    total_time = 0\n",
        "\n",
        " # Anshu Raj 22051923\n",
        "    heapq.heappush(open_list, (0, total_time, completed_tasks))\n",
        "\n",
        "    while open_list:\n",
        "        _, current_time, completed = heapq.heappop(open_list)\n",
        "\n",
        "\n",
        "        if len(completed) == len(tasks):\n",
        "            return current_time\n",
        "\n",
        "\n",
        "        available_tasks = [task for task in tasks if task not in completed and not task.dependencies.difference(completed)]\n",
        "\n",
        "        for task in available_tasks:\n",
        "            new_completed = completed | {task}\n",
        "            new_time = current_time + task.duration\n",
        "            remaining_tasks = [t for t in tasks if t not in new_completed]\n",
        "            estimated_time = heuristic(remaining_tasks)\n",
        "            heapq.heappush(open_list, (new_time + estimated_time, new_time, new_completed))\n",
        "\n",
        "def greedy_schedule(tasks):\n",
        "    \"\"\"Greedy algorithm for task scheduling.\"\"\"\n",
        "    completed = set()\n",
        "    total_time = 0\n",
        "\n",
        "# Anshu Raj 22051923\n",
        "    while len(completed) < len(tasks):\n",
        "        available_tasks = [task for task in tasks if task not in completed and not task.dependencies.difference(completed)]\n",
        "        if not available_tasks:\n",
        "            break\n",
        "\n",
        "        task = min(available_tasks, key=lambda t: t.duration)\n",
        "        completed.add(task)\n",
        "        total_time += task.duration\n",
        "\n",
        "    return total_time\n",
        "\n",
        "# Example usage\n",
        "if __name__ == \"__main__\":\n",
        "\n",
        "    task_a = Task('A', 3)\n",
        "    task_b = Task('B', 2)\n",
        "    task_c = Task('C', 1)\n",
        "    task_d = Task('D', 4)\n",
        "\n",
        "\n",
        "    task_b.add_dependency(task_a)\n",
        "    task_c.add_dependency(task_a)\n",
        "    task_d.add_dependency(task_b)\n",
        "    task_d.add_dependency(task_c)\n",
        "    tasks = [task_a, task_b, task_c, task_d]\n",
        "\n",
        "\n",
        "    a_star_time = a_star_schedule(tasks)\n",
        "    greedy_time = greedy_schedule(tasks)\n",
        "\n",
        "\n",
        "    print(f\"Total time using A* Search: {a_star_time}\")\n",
        "    print(f\"Total time using Greedy Algorithm: {greedy_time}\")"
      ]
    }
  ]
}