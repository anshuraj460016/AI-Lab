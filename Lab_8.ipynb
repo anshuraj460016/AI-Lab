{
  "cells": [
    {
      "cell_type": "markdown",
      "metadata": {
        "colab_type": "text",
        "id": "view-in-github"
      },
      "source": [
        "<a href=\"https://colab.research.google.com/github/anshuraj460016/AI-Lab/blob/main/Lab_8.ipynb\" target=\"_parent\"><img src=\"https://colab.research.google.com/assets/colab-badge.svg\" alt=\"Open In Colab\"/></a>"
      ]
    },
    {
      "cell_type": "code",
      "execution_count": null,
      "metadata": {
        "colab": {
          "base_uri": "https://localhost:8080/"
        },
        "id": "J-1gEFF9XbRC",
        "outputId": "d484b0e0-41fb-4e25-96f6-96a679b40ed1"
      },
      "outputs": [
        {
          "name": "stdout",
          "output_type": "stream",
          "text": [
            "BFS Path (Unweighted Goals):\n",
            "[(4, 0), (4, 1), (4, 2), (4, 3), (4, 4), (3, 4), (2, 4), (1, 4), (0, 4)]\n",
            "A* Path (Weighted Goals):\n",
            "[(4, 1), (4, 2), (4, 3), (4, 4), (3, 4), (2, 4), (1, 4), (0, 4)]\n"
          ]
        }
      ],
      "source": [
        "from collections import deque\n",
        "import heapq\n",
        "\n",
        "def bfs(grid, start, goals, exit):\n",
        "    queue = deque([start])\n",
        "    visited = set()\n",
        "    visited.add(start)\n",
        "    parent = {start: None}\n",
        "\n",
        "    while queue:\n",
        "        current = queue.popleft()\n",
        "\n",
        "\n",
        "        if current == exit:\n",
        "            break\n",
        "# Anshu Raj 22051923\n",
        "\n",
        "        for direction in [(0, 1), (1, 0), (0, -1), (-1, 0)]:\n",
        "            neighbor = (current[0] + direction[0], current[1] + direction[1])\n",
        "            if (0 <= neighbor[0] < len(grid) and\n",
        "                0 <= neighbor[1] < len(grid[0]) and\n",
        "                grid[neighbor[0]][neighbor[1]] != 1 and\n",
        "                neighbor not in visited):\n",
        "\n",
        "                visited.add(neighbor)\n",
        "                parent[neighbor] = current\n",
        "                queue.append(neighbor)\n",
        "\n",
        "    # Backtrack to find the path\n",
        "    path = []\n",
        "    while current is not None:\n",
        "        path.append(current)\n",
        "        current = parent[current]\n",
        "    path.reverse()\n",
        "\n",
        "    return path\n",
        "# Anshu Raj 22051923\n",
        "\n",
        "def heuristic(a, b):\n",
        "    return abs(a[0] - b[0]) + abs(a[1] - b[1])\n",
        "\n",
        "def a_star(grid, start, goals, exit):\n",
        "    open_set = []\n",
        "    heapq.heappush(open_set, (0, start))\n",
        "    came_from = {}\n",
        "\n",
        "    g_score = {start: 0}\n",
        "    f_score = {start: heuristic(start, exit)}\n",
        "\n",
        "    while open_set:\n",
        "        current = heapq.heappop(open_set)[1]\n",
        "\n",
        "\n",
        "        if current == exit:\n",
        "            break\n",
        "\n",
        "\n",
        "        for direction in [(0, 1), (1, 0), (0, -1), (-1, 0)]:\n",
        "            neighbor = (current[0] + direction[0], current[1] + direction[1])\n",
        "            if (0 <= neighbor[0] < len(grid) and\n",
        "                0 <= neighbor[1] < len(grid[0]) and\n",
        "                grid[neighbor[0]][neighbor[1]] != 1):\n",
        "\n",
        "\n",
        "                tentative_g_score = g_score[current] + (1 if neighbor not in goals else goals[neighbor])\n",
        "\n",
        "                if tentative_g_score < g_score.get(neighbor, float('inf')):\n",
        "                    came_from[neighbor] = current\n",
        "                    g_score[neighbor] = tentative_g_score\n",
        "                    f_score[neighbor] = tentative_g_score + heuristic(neighbor, exit)\n",
        "                    if neighbor not in [i[1] for i in open_set]:\n",
        "                        heapq.heappush(open_set, (f_score[neighbor], neighbor))\n",
        "\n",
        "\n",
        "    path = []\n",
        "    while current in came_from:\n",
        "        path.append(current)\n",
        "        current = came_from[current]\n",
        "    path.reverse()\n",
        "\n",
        "    return path\n",
        "\n",
        "# Example Grid Setup\n",
        "grid = [\n",
        "    [0, 0, 0, 1, 0],\n",
        "    [0, 1, 0, 1, 0],\n",
        "    [0, 0, 0, 0, 0],\n",
        "    [1, 1, 1, 1, 0],\n",
        "    [0, 0, 0, 0, 0]\n",
        "]\n",
        "\n",
        "\n",
        "goals = {\n",
        "    (0, 0): 2,\n",
        "    (2, 2): 1,\n",
        "    (4, 4): 3\n",
        "}\n",
        "\n",
        "start = (4, 0)\n",
        "exit = (0, 4)\n",
        "\n",
        "\n",
        "print(\"BFS Path (Unweighted Goals):\")\n",
        "bfs_path = bfs(grid, start, goals, exit)\n",
        "print(bfs_path)\n",
        "\n",
        "\n",
        "print(\"A* Path (Weighted Goals):\")\n",
        "a_star_path = a_star(grid, start, goals, exit)\n",
        "print(a_star_path)"
      ]
    }
  ],
  "metadata": {
    "colab": {
      "authorship_tag": "ABX9TyMd9LzgqV47GbhKIoJMIUkT",
      "include_colab_link": true,
      "provenance": []
    },
    "kernelspec": {
      "display_name": "Python 3",
      "name": "python3"
    },
    "language_info": {
      "name": "python"
    }
  },
  "nbformat": 4,
  "nbformat_minor": 0
}
