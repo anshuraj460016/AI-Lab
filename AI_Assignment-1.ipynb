{
  "nbformat": 4,
  "nbformat_minor": 0,
  "metadata": {
    "colab": {
      "provenance": [],
      "authorship_tag": "ABX9TyOqvEW9C1U8QlCuQY9FihC6",
      "include_colab_link": true
    },
    "kernelspec": {
      "name": "python3",
      "display_name": "Python 3"
    },
    "language_info": {
      "name": "python"
    }
  },
  "cells": [
    {
      "cell_type": "markdown",
      "metadata": {
        "id": "view-in-github",
        "colab_type": "text"
      },
      "source": [
        "<a href=\"https://colab.research.google.com/github/anshuraj460016/AI-Lab/blob/main/AI_Assignment-1.ipynb\" target=\"_parent\"><img src=\"https://colab.research.google.com/assets/colab-badge.svg\" alt=\"Open In Colab\"/></a>"
      ]
    },
    {
      "cell_type": "code",
      "source": [
        "from collections import deque\n",
        "\n",
        "def bfs(grid, start, end):\n",
        "    rows, cols = len(grid), len(grid[0])\n",
        "    directions = [(0, 1), (1, 0), (0, -1), (-1, 0)]\n",
        "    queue = deque([(*start, 0)])\n",
        "    visited = set()\n",
        "    visited.add(start)\n",
        "    nodes_explored = 0\n",
        "\n",
        "    while queue:\n",
        "        x, y, dist = queue.popleft()\n",
        "        nodes_explored += 1\n",
        "\n",
        "        if (x, y) == end:\n",
        "            return dist, nodes_explored\n",
        "\n",
        "        for dx, dy in directions:\n",
        "            nx, ny = x + dx, y + dy\n",
        "            if 0 <= nx < rows and 0 <= ny < cols and grid[nx][ny] == 1 and (nx, ny) not in visited:\n",
        "                queue.append((nx, ny, dist + 1))\n",
        "                visited.add((nx, ny))\n",
        "\n",
        "    return -1, nodes_explored\n",
        "\n",
        "def dfs(grid, start, end):\n",
        "    rows, cols = len(grid), len(grid[0])\n",
        "    directions = [(0, 1), (1, 0), (0, -1), (-1, 0)]\n",
        "    stack = [(*start, [])]\n",
        "    visited = set()\n",
        "    nodes_explored = 0\n",
        "\n",
        "    while stack:\n",
        "        x, y, path = stack.pop()\n",
        "        nodes_explored += 1\n",
        "        if (x, y) == end:\n",
        "            return path + [end], nodes_explored\n",
        "\n",
        "        visited.add((x, y))\n",
        "        for dx, dy in directions:\n",
        "            nx, ny = x + dx, y + dy\n",
        "            if 0 <= nx < rows and 0 <= ny < cols and grid[nx][ny] == 1 and (nx, ny) not in visited:\n",
        "                stack.append((nx, ny, path + [(x, y)]))\n",
        "\n",
        "    return None, nodes_explored\n",
        "\n",
        "\n",
        "grid = [\n",
        "    [1, 0, 1, 1],\n",
        "    [1, 1, 1, 0],\n",
        "    [0, 1, 0, 1],\n",
        "    [1, 1, 1, 1],\n",
        "]\n",
        "start = (0, 0)\n",
        "end = (3, 3)\n",
        "\n",
        "bfs_result, bfs_nodes = bfs(grid, start, end)\n",
        "print(\"BFS :\", bfs_result)\n",
        "print(\"BFS Nodes:\", bfs_nodes)\n",
        "\n",
        "dfs_result, dfs_nodes = dfs(grid, start, end)\n",
        "print(\"DFS :\", dfs_result)\n",
        "print(\"DFS Nodes :\", dfs_nodes)"
      ],
      "metadata": {
        "colab": {
          "base_uri": "https://localhost:8080/"
        },
        "id": "FX-NeNCwRDD7",
        "outputId": "213375f0-205c-44e4-f538-3b4e37ddaebc"
      },
      "execution_count": 3,
      "outputs": [
        {
          "output_type": "stream",
          "name": "stdout",
          "text": [
            "BFS : 6\n",
            "BFS Nodes: 11\n",
            "DFS : [(0, 0), (1, 0), (1, 1), (2, 1), (3, 1), (3, 2), (3, 3)]\n",
            "DFS Nodes : 8\n"
          ]
        }
      ]
    }
  ]
}